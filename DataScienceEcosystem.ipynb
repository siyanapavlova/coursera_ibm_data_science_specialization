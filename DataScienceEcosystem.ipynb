{
 "cells": [
  {
   "cell_type": "markdown",
   "id": "e665e4ec-151d-41d1-a7fa-9d870a84b8eb",
   "metadata": {},
   "source": [
    "# Data Science Tools and Ecosystem"
   ]
  },
  {
   "cell_type": "markdown",
   "id": "38c35c24-f9a0-44cf-8b51-a0af725f8ac3",
   "metadata": {},
   "source": [
    "In this notebook, Data Science Tools and Ecosystem are summarized."
   ]
  },
  {
   "cell_type": "markdown",
   "id": "2b26cb48-3bf9-4d8b-a653-0b6c2344f96d",
   "metadata": {},
   "source": [
    "**Objectives**\n",
    "- List popular Data Science languages\n",
    "- List popular Data Science libraries\n",
    "- List popular Data Science tools\n",
    "- Demonstrate how to evaluate arithmetic expressions in Python"
   ]
  },
  {
   "cell_type": "markdown",
   "id": "968b5682-be6f-4c16-8357-d84586655742",
   "metadata": {},
   "source": [
    "Some of the popular languages that Data Scientists use are:\n",
    "1. `python`\n",
    "2. `R`\n",
    "3. `Java`"
   ]
  },
  {
   "cell_type": "markdown",
   "id": "9bf82b10-5723-481b-9ba6-3d3fab232b32",
   "metadata": {},
   "source": [
    "Some of the commonly used libraries used by Data Scientists include:\n",
    "1. `scikit-learn`\n",
    "2. `pandas`\n",
    "3. `matplotlib`"
   ]
  },
  {
   "cell_type": "markdown",
   "id": "2bcd1ef2-ea39-48fb-9660-8006d2212c23",
   "metadata": {},
   "source": [
    "| Data Science Tools |\n",
    "----------------------\n",
    "| Jupyter  | \n",
    "| R Studio |\n",
    "| GitHub |"
   ]
  },
  {
   "cell_type": "markdown",
   "id": "c944ed65-8398-4f8c-8545-52493f3f61c5",
   "metadata": {},
   "source": [
    "### Below are a few examples of evaluating arithmetic expressions in Python."
   ]
  },
  {
   "cell_type": "code",
   "execution_count": 5,
   "id": "c662c61d-ae1c-4549-9f36-5afbbca90ef8",
   "metadata": {},
   "outputs": [
    {
     "data": {
      "text/plain": [
       "17"
      ]
     },
     "execution_count": 5,
     "metadata": {},
     "output_type": "execute_result"
    }
   ],
   "source": [
    "# This a simple arithmetic expression to mutiply then add integers .\n",
    "(3 * 4) + 5"
   ]
  },
  {
   "cell_type": "code",
   "execution_count": 6,
   "id": "c75eb6bc-57a5-47fc-adff-13ef06a7f24a",
   "metadata": {},
   "outputs": [
    {
     "data": {
      "text/plain": [
       "3.3333333333333335"
      ]
     },
     "execution_count": 6,
     "metadata": {},
     "output_type": "execute_result"
    }
   ],
   "source": [
    "# This will convert 200 minutes to hours by diving by 60 .\n",
    "\n",
    "200 / 60"
   ]
  },
  {
   "cell_type": "markdown",
   "id": "26200abe-278c-43e5-90a2-9cd91fb2f222",
   "metadata": {},
   "source": [
    "## Author\n",
    "Siyana Pavlova"
   ]
  }
 ],
 "metadata": {
  "kernelspec": {
   "display_name": "Python 3 (ipykernel)",
   "language": "python",
   "name": "python3"
  },
  "language_info": {
   "codemirror_mode": {
    "name": "ipython",
    "version": 3
   },
   "file_extension": ".py",
   "mimetype": "text/x-python",
   "name": "python",
   "nbconvert_exporter": "python",
   "pygments_lexer": "ipython3",
   "version": "3.8.10"
  }
 },
 "nbformat": 4,
 "nbformat_minor": 5
}
